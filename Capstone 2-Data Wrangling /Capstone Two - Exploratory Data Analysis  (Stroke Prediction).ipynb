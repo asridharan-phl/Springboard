{
 "cells": [
  {
   "cell_type": "markdown",
   "id": "736427ea",
   "metadata": {},
   "source": [
    "Distribution of features."
   ]
  },
  {
   "cell_type": "code",
   "execution_count": null,
   "id": "b94fd8bc",
   "metadata": {},
   "outputs": [],
   "source": [
    "plt.figure(figsize=(8,6))\n",
    "plt.hist(df[df.stroke == 1].age, bins =20, alpha=0.75, facecolor = 'g', label=\"Stroke\");\n",
    "plt.hist(df[df.stroke == 0].age, bins =20, alpha=0.3, label=\"No stroke\");\n",
    "plt.legend(loc='upper right');\n",
    "plt.xlabel('Age');\n",
    "plt.ylabel('Count');\n",
    "plt.title('Distribution of age w.r.t stroke outcome');"
   ]
  },
  {
   "cell_type": "markdown",
   "id": "4f2b95a2",
   "metadata": {},
   "source": [
    "As expected the age distrubtion of people who have stroke are skewed towards older ages. "
   ]
  },
  {
   "cell_type": "code",
   "execution_count": null,
   "id": "83826ec3",
   "metadata": {},
   "outputs": [],
   "source": [
    "plt.figure(figsize = (8,6))\n",
    "plt.hist(df[df.stroke == 1].avg_glucose_level, bins =20, alpha=0.75, facecolor = 'g', label=\"Stroke\");\n",
    "plt.hist(df[df.stroke == 0].avg_glucose_level, bins =20, alpha=0.2, label=\"No stroke\");\n",
    "plt.legend(loc='upper right');\n",
    "plt.ylabel('Count');\n",
    "plt.title('Distribution of glucose level w.r.t stroke outcome');"
   ]
  },
  {
   "cell_type": "markdown",
   "id": "856a543a",
   "metadata": {},
   "source": [
    "There seems to be a skew towards lower glucose levels in people who don't experience stroke. "
   ]
  },
  {
   "cell_type": "code",
   "execution_count": null,
   "id": "f131b627",
   "metadata": {},
   "outputs": [],
   "source": [
    "plt.figure(figsize = (8,6))\n",
    "plt.hist(df[df.stroke == 1].bmi, bins =50, alpha=0.75, facecolor = 'g', label=\"Stroke\");\n",
    "plt.hist(df[df.stroke == 0].bmi, bins =50, alpha=0.2, label=\"No stroke\");\n",
    "plt.legend(loc='upper right');\n",
    "plt.ylabel('Count');\n",
    "plt.title('Distribution of BMI w.r.t stroke outcome');"
   ]
  },
  {
   "cell_type": "markdown",
   "id": "c3e8d180",
   "metadata": {},
   "source": [
    "No obvious difference in the BMI distributions between the two groups. Need to look into this further. "
   ]
  }
 ],
 "metadata": {
  "kernelspec": {
   "display_name": "Python 3 (ipykernel)",
   "language": "python",
   "name": "python3"
  },
  "language_info": {
   "codemirror_mode": {
    "name": "ipython",
    "version": 3
   },
   "file_extension": ".py",
   "mimetype": "text/x-python",
   "name": "python",
   "nbconvert_exporter": "python",
   "pygments_lexer": "ipython3",
   "version": "3.9.7"
  }
 },
 "nbformat": 4,
 "nbformat_minor": 5
}
